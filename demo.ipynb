{
  "nbformat": 4,
  "nbformat_minor": 0,
  "metadata": {
    "colab": {
      "provenance": [],
      "authorship_tag": "ABX9TyOmyhTEPfMVyY5CojHQ6wQe",
      "include_colab_link": true
    },
    "kernelspec": {
      "name": "python3",
      "display_name": "Python 3"
    },
    "language_info": {
      "name": "python"
    }
  },
  "cells": [
    {
      "cell_type": "markdown",
      "metadata": {
        "id": "view-in-github",
        "colab_type": "text"
      },
      "source": [
        "<a href=\"https://colab.research.google.com/github/Shefaa-Al/AI-Enhancement-with-Knowledge-Graphs---Mastering-RAG-Systems/blob/main/demo.ipynb\" target=\"_parent\"><img src=\"https://colab.research.google.com/assets/colab-badge.svg\" alt=\"Open In Colab\"/></a>"
      ]
    },
    {
      "cell_type": "code",
      "execution_count": 1,
      "metadata": {
        "colab": {
          "base_uri": "https://localhost:8080/"
        },
        "id": "N41o_0CXi46f",
        "outputId": "8a40ca0d-6604-41a4-f1ba-a74e0a958fef"
      },
      "outputs": [
        {
          "output_type": "stream",
          "name": "stdout",
          "text": [
            "hello, world!\n"
          ]
        }
      ],
      "source": [
        "print(\"hello, world!\")"
      ]
    },
    {
      "cell_type": "code",
      "source": [
        "print(2+1)"
      ],
      "metadata": {
        "colab": {
          "base_uri": "https://localhost:8080/"
        },
        "id": "vgWIPA4Njgm1",
        "outputId": "72eb2f97-0cd7-45e1-ce9e-b3868cb75d43"
      },
      "execution_count": 3,
      "outputs": [
        {
          "output_type": "stream",
          "name": "stdout",
          "text": [
            "3\n"
          ]
        }
      ]
    },
    {
      "cell_type": "code",
      "source": [],
      "metadata": {
        "id": "gYnupCzwjqqx"
      },
      "execution_count": null,
      "outputs": []
    },
    {
      "cell_type": "markdown",
      "source": [
        "**google colab orientation**"
      ],
      "metadata": {
        "id": "sBWtEVfjjwu7"
      }
    },
    {
      "cell_type": "code",
      "source": [],
      "metadata": {
        "id": "ywEs43wEj6Eg"
      },
      "execution_count": null,
      "outputs": []
    }
  ]
}